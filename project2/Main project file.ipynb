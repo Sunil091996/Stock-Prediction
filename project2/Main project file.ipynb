{
 "cells": [
  {
   "cell_type": "code",
   "execution_count": null,
   "metadata": {},
   "outputs": [],
   "source": [
    "import numpy as np\n",
    "import pandas as pd\n",
    "import matplotlib.pyplot as plt\n",
    "from sklearn.model_selection import train_test_split\n",
    "from sklearn.linear_model import LinearRegression\n",
    "from sklearn.tree import DecisionTreeRegressor\n",
    "from sklearn.neighbors import KNeighborsRegressor\n",
    "from sklearn.ensemble import RandomForestRegressor\n",
    "from sklearn.model_selection import train_test_split\n",
    "import warnings\n",
    "warnings.filterwarnings('ignore')\n",
    "plt.style.use('bmh')"
   ]
  },
  {
   "cell_type": "code",
   "execution_count": null,
   "metadata": {},
   "outputs": [],
   "source": [
    "print(\"1.Apple\\n2.AMAZON\\n3.SENSEX\\n4.Google\\n5.MICROSOFT\\n6.NETFLIX\\n7.NIFTY\\n8.Walmart\")\n",
    "ch=int(input(\"Enter your choice:\"))\n",
    "file=\"\"\n",
    "name=\"\"\n",
    "sign=\"USD ($)\"\n",
    "if(ch==1):\n",
    "    file=\"AAPL.csv\"\n",
    "    name=\"Apple\"\n",
    "elif(ch==2):\n",
    "    file=\"AMZN.csv\"\n",
    "    name=\"Amazon\"\n",
    "elif(ch==3):\n",
    "    file=\"BSESN.csv\"\n",
    "    name=\"Sensex\"\n",
    "elif(ch==4):\n",
    "    file=\"GOOG.csv\"\n",
    "    name=\"Google\"\n",
    "elif(ch==5):\n",
    "    file=\"MSFT.csv\"\n",
    "    name=\"Microsoft\"\n",
    "elif(ch==6):\n",
    "    file=\"NFLX.csv\"\n",
    "    name=\"Netflix\"\n",
    "elif(ch==7):\n",
    "    file=\"NSEI.csv\"\n",
    "    name=\"NIFTY\"\n",
    "else:\n",
    "    file=\"WMT.csv\"\n",
    "    name=\"Walmart\"\n",
    "if(ch==3 or ch==7):\n",
    "    sign=\"INR (Rs)\""
   ]
  },
  {
   "cell_type": "code",
   "execution_count": null,
   "metadata": {},
   "outputs": [],
   "source": [
    "data = pd.read_csv(file)\n",
    "data.head(5)"
   ]
  },
  {
   "cell_type": "code",
   "execution_count": null,
   "metadata": {},
   "outputs": [],
   "source": [
    "data.tail(5)"
   ]
  },
  {
   "cell_type": "code",
   "execution_count": null,
   "metadata": {},
   "outputs": [],
   "source": [
    "plt.figure(figsize=(16,8))\n",
    "plt.title(name)\n",
    "plt.xlabel('Days')\n",
    "plt.ylabel('Close Price '+sign)\n",
    "plt.plot(data['Close'])\n",
    "plt.show()"
   ]
  },
  {
   "cell_type": "code",
   "execution_count": null,
   "metadata": {},
   "outputs": [],
   "source": [
    "data=data[['Close']]\n",
    "data.head(4)"
   ]
  },
  {
   "cell_type": "code",
   "execution_count": null,
   "metadata": {},
   "outputs": [],
   "source": [
    "future_days=44\n",
    "data['Prediction Close']=data[['Close']].shift(-future_days)\n",
    "data.tail(27)"
   ]
  },
  {
   "cell_type": "code",
   "execution_count": null,
   "metadata": {},
   "outputs": [],
   "source": [
    "X=np.array(data.drop(['Prediction Close'],1))[:-future_days]\n",
    "X"
   ]
  },
  {
   "cell_type": "code",
   "execution_count": null,
   "metadata": {},
   "outputs": [],
   "source": [
    "y=np.array(data['Prediction Close'])[:-future_days]\n",
    "y"
   ]
  },
  {
   "cell_type": "code",
   "execution_count": null,
   "metadata": {},
   "outputs": [],
   "source": [
    "#Split the data into 80% training and 20% testing\n",
    "X_train,X_test,y_train,y_test=train_test_split(X,y,test_size=0.2)"
   ]
  },
  {
   "cell_type": "code",
   "execution_count": null,
   "metadata": {},
   "outputs": [],
   "source": [
    "#Create the models\n",
    "#Create the decision tree regressor model\n",
    "accuracy=[]\n",
    "for i in range(1,10):\n",
    "    tree=DecisionTreeRegressor(max_depth=i).fit(X_train,y_train)\n",
    "    accuracy.append(tree.score(X_test,y_test))\n",
    "n=accuracy.index(max(accuracy))+1\n",
    "tree=DecisionTreeRegressor(max_depth=n).fit(X_train,y_train)\n",
    "#Create the linear regression model\n",
    "lr=LinearRegression().fit(X_train,y_train)\n",
    "#Create the k nearest neighbor model\n",
    "accuracy=[]\n",
    "for i in range(1,50):\n",
    "    neigh=KNeighborsRegressor(n_neighbors=i).fit(X_train,y_train)\n",
    "    accuracy.append(neigh.score(X_test,y_test))\n",
    "n=accuracy.index(max(accuracy))+1\n",
    "neigh=KNeighborsRegressor(n_neighbors=n).fit(X_train,y_train)\n",
    "#Create the random forest model\n",
    "accuracy=[]\n",
    "for i in range(1,10):\n",
    "    forest = RandomForestRegressor(max_depth=i).fit(X_train,y_train)\n",
    "    accuracy.append(forest.score(X_test,y_test))\n",
    "n=accuracy.index(max(accuracy))+1\n",
    "forest = RandomForestRegressor(max_depth=n).fit(X_train,y_train)"
   ]
  },
  {
   "cell_type": "code",
   "execution_count": null,
   "metadata": {},
   "outputs": [],
   "source": [
    "x_future=data.drop(['Prediction Close'],1)[:-future_days]\n",
    "x_future=x_future.tail(future_days)\n",
    "x_future=np.array(x_future)\n",
    "x_future"
   ]
  },
  {
   "cell_type": "code",
   "execution_count": null,
   "metadata": {},
   "outputs": [],
   "source": [
    "#Show the model tree prediction\n",
    "tree_prediction=tree.predict(x_future)\n",
    "print(tree_prediction)\n",
    "print()\n",
    "#Show the model linear regression prediction\n",
    "lr_prediction=lr.predict(x_future)\n",
    "print(lr_prediction)\n",
    "print()\n",
    "#Show the model k nearest neighbor prediction\n",
    "knn_prediction=neigh.predict(x_future)\n",
    "print(knn_prediction)\n",
    "print()\n",
    "#Show the model random forest prediction\n",
    "forest_prediction=forest.predict(x_future)\n",
    "print(forest_prediction)"
   ]
  },
  {
   "cell_type": "code",
   "execution_count": null,
   "metadata": {},
   "outputs": [],
   "source": [
    "#Visulaize the tree prediction\n",
    "predictions=tree_prediction\n",
    "valid=data[X.shape[0]:]\n",
    "valid['Prediction Close']=predictions\n",
    "plt.figure(figsize=(16,8))\n",
    "plt.title('Decision Tree Model')\n",
    "plt.xlabel('Days')\n",
    "plt.ylabel('Close Price '+sign)\n",
    "plt.plot(data['Close'])\n",
    "plt.plot(valid[['Close','Prediction Close']])\n",
    "plt.legend(['Orig','Val','Pred'])\n",
    "plt.show()"
   ]
  },
  {
   "cell_type": "code",
   "execution_count": null,
   "metadata": {},
   "outputs": [],
   "source": [
    "valid"
   ]
  },
  {
   "cell_type": "code",
   "execution_count": null,
   "metadata": {},
   "outputs": [],
   "source": [
    "#Visulaize the linear regression prediction\n",
    "predictions=lr_prediction\n",
    "valid=data[X.shape[0]:]\n",
    "valid['Prediction Close']=predictions\n",
    "plt.figure(figsize=(16,8))\n",
    "plt.title('Linear Regression Model')\n",
    "plt.xlabel('Days')\n",
    "plt.ylabel('Close Price '+sign)\n",
    "plt.plot(data['Close'])\n",
    "plt.plot(valid[['Close','Prediction Close']])\n",
    "plt.legend(['Orig','Val','Pred'])\n",
    "plt.show()"
   ]
  },
  {
   "cell_type": "code",
   "execution_count": null,
   "metadata": {},
   "outputs": [],
   "source": [
    "valid"
   ]
  },
  {
   "cell_type": "code",
   "execution_count": null,
   "metadata": {},
   "outputs": [],
   "source": [
    "#Visulaize the k nearest neighbor prediction\n",
    "predictions=knn_prediction\n",
    "valid=data[X.shape[0]:]\n",
    "valid['Prediction Close']=predictions\n",
    "plt.figure(figsize=(16,8))\n",
    "plt.title('KNN Model')\n",
    "plt.xlabel('Days')\n",
    "plt.ylabel('Close Price '+sign)\n",
    "plt.plot(data['Close'])\n",
    "plt.plot(valid[['Close','Prediction Close']])\n",
    "plt.legend(['Orig','Val','Pred'])\n",
    "plt.show()"
   ]
  },
  {
   "cell_type": "code",
   "execution_count": null,
   "metadata": {},
   "outputs": [],
   "source": [
    "valid"
   ]
  },
  {
   "cell_type": "code",
   "execution_count": null,
   "metadata": {},
   "outputs": [],
   "source": [
    "#Visulaize the random forest prediction\n",
    "predictions=forest_prediction\n",
    "valid=data[X.shape[0]:]\n",
    "valid['Prediction Close']=predictions\n",
    "plt.figure(figsize=(16,8))\n",
    "plt.title('Random Forest Model')\n",
    "plt.xlabel('Days')\n",
    "plt.ylabel('Close Price '+sign)\n",
    "plt.plot(data['Close'])\n",
    "plt.plot(valid[['Close','Prediction Close']])\n",
    "plt.legend(['Orig','Val','Pred'])\n",
    "plt.show()"
   ]
  },
  {
   "cell_type": "code",
   "execution_count": null,
   "metadata": {},
   "outputs": [],
   "source": [
    "valid"
   ]
  },
  {
   "cell_type": "code",
   "execution_count": null,
   "metadata": {},
   "outputs": [],
   "source": [
    "tree.score(X_test,y_test)"
   ]
  },
  {
   "cell_type": "code",
   "execution_count": null,
   "metadata": {},
   "outputs": [],
   "source": [
    "lr.score(X_test,y_test)"
   ]
  },
  {
   "cell_type": "code",
   "execution_count": null,
   "metadata": {},
   "outputs": [],
   "source": [
    "neigh.score(X_test,y_test)"
   ]
  },
  {
   "cell_type": "code",
   "execution_count": null,
   "metadata": {},
   "outputs": [],
   "source": [
    "forest.score(X_test,y_test)"
   ]
  },
  {
   "cell_type": "code",
   "execution_count": null,
   "metadata": {},
   "outputs": [],
   "source": []
  }
 ],
 "metadata": {
  "kernelspec": {
   "display_name": "Python 3",
   "language": "python",
   "name": "python3"
  },
  "language_info": {
   "codemirror_mode": {
    "name": "ipython",
    "version": 3
   },
   "file_extension": ".py",
   "mimetype": "text/x-python",
   "name": "python",
   "nbconvert_exporter": "python",
   "pygments_lexer": "ipython3",
   "version": "3.8.2"
  }
 },
 "nbformat": 4,
 "nbformat_minor": 4
}
